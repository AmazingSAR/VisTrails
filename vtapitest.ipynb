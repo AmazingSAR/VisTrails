{
 "metadata": {
  "name": "",
  "signature": "sha256:9b223d289caaa229b0afaca8da3a11ff219b486ff4ee80cb92f9eb8dab3ba5b0"
 },
 "nbformat": 3,
 "nbformat_minor": 0,
 "worksheets": [
  {
   "cells": [
    {
     "cell_type": "code",
     "collapsed": false,
     "input": [
      "import traceback"
     ],
     "language": "python",
     "metadata": {},
     "outputs": [],
     "prompt_number": 1
    },
    {
     "cell_type": "markdown",
     "metadata": {},
     "source": [
      "# VisTrails API example\n",
      "\n",
      "This notebook showcases the new API. Inlined are some comments on design decisions."
     ]
    },
    {
     "cell_type": "code",
     "collapsed": false,
     "input": [
      "import vistrails as vt"
     ],
     "language": "python",
     "metadata": {},
     "outputs": [],
     "prompt_number": 2
    },
    {
     "cell_type": "markdown",
     "metadata": {},
     "source": [
      "There are few reasons for the API not to be under the top-level `vistrails` package. They are:\n",
      "\n",
      "* Versioning; rolling out a new API would be difficult (this is the third attempt at an API already).\n",
      "* Weight; the top-level package is always imported even if VisTrails is not to be used programmatically. This is a non-issue if the API doesn't do any initialization before the first API call, and provided that importing stuff from the rest of VisTrails doesn't have harmful side-effects."
     ]
    },
    {
     "cell_type": "markdown",
     "metadata": {},
     "source": [
      "## `Vistrail`s and `Pipeline`s\n",
      "\n",
      "`Vistrail`s objects are currently obtained through `load_vistrail()`, although they can be constructed from an existing `Pipeline` or `VistrailController`<sup>internal</sup>.\n",
      "\n",
      "> Question: should we allow Vistrail('path/to/file') as well?"
     ]
    },
    {
     "cell_type": "code",
     "collapsed": false,
     "input": [
      "vistrail = vt.load_vistrail('examples/simplemath.vt')"
     ],
     "language": "python",
     "metadata": {},
     "outputs": [],
     "prompt_number": 3
    },
    {
     "cell_type": "markdown",
     "metadata": {},
     "source": [
      "A `Vistrail` is basically a controller. From it we can get `Pipeline`s, but it is also stateful (i.e. has a current version); this is useful for editing (creating new versions from the current one). It also provides the interface that `Pipeline` has, implicitely acting on the `current_pipeline`.\n",
      "\n",
      "> Problem: there are issues with upgrades; `get_pipeline()` can return non-upgraded pipelines and this is bad.\n",
      "> `vistrail.get_pipeline(vistrail.current_version)` will return the non-upgraded thing which is unexpected."
     ]
    },
    {
     "cell_type": "code",
     "collapsed": false,
     "input": [
      "vistrail"
     ],
     "language": "python",
     "metadata": {},
     "outputs": [
      {
       "metadata": {},
       "output_type": "pyout",
       "prompt_number": 4,
       "text": [
        "<Vistrail: simplemath.vt, version -1, not changed>"
       ]
      }
     ],
     "prompt_number": 4
    },
    {
     "cell_type": "code",
     "collapsed": false,
     "input": [
      "vistrail.controller.select_latest_version()"
     ],
     "language": "python",
     "metadata": {},
     "outputs": [],
     "prompt_number": 5
    },
    {
     "cell_type": "code",
     "collapsed": false,
     "input": [
      "vistrail"
     ],
     "language": "python",
     "metadata": {},
     "outputs": [
      {
       "metadata": {},
       "output_type": "pyout",
       "prompt_number": 6,
       "text": [
        "<Vistrail: simplemath.vt, version 28, not changed>"
       ]
      }
     ],
     "prompt_number": 6
    },
    {
     "cell_type": "code",
     "collapsed": false,
     "input": [
      "vistrail.get_pipeline(2)"
     ],
     "language": "python",
     "metadata": {},
     "outputs": [
      {
       "metadata": {},
       "output_type": "pyout",
       "prompt_number": 7,
       "text": [
        "<Pipeline: 1 modules, 0 connections>"
       ]
      }
     ],
     "prompt_number": 7
    },
    {
     "cell_type": "markdown",
     "metadata": {},
     "source": [
      "# Packages\n",
      "\n",
      "Only `basic_modules` (and `abstractions`?) are loaded on initialization, so that using the API stays fast. A package might be auto-enabled when it is requested, which is efficient and convenient.\n",
      "\n",
      "`load_package()` only uses package identifiers (although we could add versions specifiers?), I don't think we want to worry about names/codepaths."
     ]
    },
    {
     "cell_type": "code",
     "collapsed": false,
     "input": [
      "tabledata = vt.load_package('org.vistrails.vistrails.tabledata')\n",
      "tabledata"
     ],
     "language": "python",
     "metadata": {},
     "outputs": [
      {
       "metadata": {},
       "output_type": "pyout",
       "prompt_number": 8,
       "text": [
        "<Package: org.vistrails.vistrails.tabledata, 23 modules>"
       ]
      }
     ],
     "prompt_number": 8
    },
    {
     "cell_type": "markdown",
     "metadata": {},
     "source": [
      "You can get `Module`s from the package using the dot or bracket syntax. These modules are \"dangling\" modules, not yet instanciated in a specific pipeline/vistrail.\n",
      "\n",
      "I chose not to make a distinction between module descriptors and pipeline modules (module descriptors are just modules that are not yet connected to a pipeline) to simplify things and keep the number of concepts low."
     ]
    },
    {
     "cell_type": "code",
     "collapsed": false,
     "input": [
      "tabledata.convert"
     ],
     "language": "python",
     "metadata": {},
     "outputs": [
      {
       "metadata": {},
       "output_type": "pyout",
       "prompt_number": 9,
       "text": [
        "<Namespace convert of package org.vistrails.vistrails.tabledata>"
       ]
      }
     ],
     "prompt_number": 9
    },
    {
     "cell_type": "code",
     "collapsed": false,
     "input": [
      "from vistrails.core.modules.module_registry import MissingModule\n",
      "try:\n",
      "    tabledata['convert']  # can't get namespaces this way, use a dot\n",
      "except MissingModule:\n",
      "    pass\n",
      "else:\n",
      "    assert False"
     ],
     "language": "python",
     "metadata": {},
     "outputs": [],
     "prompt_number": 10
    },
    {
     "cell_type": "code",
     "collapsed": false,
     "input": [
      "tabledata.BuildTable, tabledata['BuildTable']"
     ],
     "language": "python",
     "metadata": {},
     "outputs": [
      {
       "metadata": {},
       "output_type": "pyout",
       "prompt_number": 11,
       "text": [
        "(<Module 'BuildTable' from org.vistrails.vistrails.tabledata>,\n",
        " <Module 'BuildTable' from org.vistrails.vistrails.tabledata>)"
       ]
      }
     ],
     "prompt_number": 11
    },
    {
     "cell_type": "code",
     "collapsed": false,
     "input": [
      "tabledata.read.CSVFile, tabledata['read|CSVFile']"
     ],
     "language": "python",
     "metadata": {},
     "outputs": [
      {
       "metadata": {},
       "output_type": "pyout",
       "prompt_number": 12,
       "text": [
        "(<Module 'CSVFile' from org.vistrails.vistrails.tabledata>,\n",
        " <Module 'CSVFile' from org.vistrails.vistrails.tabledata>)"
       ]
      }
     ],
     "prompt_number": 12
    },
    {
     "cell_type": "markdown",
     "metadata": {},
     "source": [
      "# Pipeline manipulation\n",
      "\n",
      "Work in progress..."
     ]
    },
    {
     "cell_type": "markdown",
     "metadata": {},
     "source": [
      "# Execution\n",
      "\n",
      "In addition to executing a `Pipeline` or `Vistrail`, I want to be able to easily pass values in on InputPort modules (to use subworkflows as Python functions) and get results out (either on OutputPort modules or any port of any module).\n",
      "\n",
      "Execution returns a `Results` object from which you can get all of this, and that would be integrated with IPython to inline images and objects that support it (matplotlib, ...)."
     ]
    },
    {
     "cell_type": "markdown",
     "metadata": {},
     "source": [
      "## Gets output"
     ]
    },
    {
     "cell_type": "code",
     "collapsed": false,
     "input": [
      "outputs = vt.load_vistrail('examples/outputs.vt')\n",
      "outputs.select_version(1)\n",
      "outputs"
     ],
     "language": "python",
     "metadata": {},
     "outputs": [
      {
       "metadata": {},
       "output_type": "pyout",
       "prompt_number": 13,
       "text": [
        "<Vistrail: outputs.vt, version 1, not changed>"
       ]
      }
     ],
     "prompt_number": 13
    },
    {
     "cell_type": "code",
     "collapsed": false,
     "input": [
      "# Errors\n",
      "try:\n",
      "    result = outputs.execute()\n",
      "except vt.ExecutionErrors:\n",
      "    traceback.print_exc()\n",
      "else:\n",
      "    assert False"
     ],
     "language": "python",
     "metadata": {},
     "outputs": [
      {
       "output_type": "stream",
       "stream": "stderr",
       "text": [
        "Traceback (most recent call last):\n",
        "  File \"<ipython-input-14-979bf6416e43>\", line 3, in <module>\n",
        "    result = outputs.execute()\n",
        "  File \"vistrails\\core\\api.py\", line 196, in execute\n",
        "    return self.current_pipeline.execute(*args, **kwargs)\n",
        "  File \"vistrails\\core\\api.py\", line 338, in execute\n",
        "    raise ExecutionErrors(self, result)\n",
        "ExecutionErrors: Pipeline execution failed: 1 error:\n",
        "0: Missing value from port value\n"
       ]
      }
     ],
     "prompt_number": 14
    },
    {
     "cell_type": "code",
     "collapsed": false,
     "input": [
      "# Results\n",
      "outputs.select_latest_version()\n",
      "result = outputs.execute()\n",
      "result"
     ],
     "language": "python",
     "metadata": {},
     "outputs": [
      {
       "metadata": {},
       "output_type": "pyout",
       "prompt_number": 15,
       "text": [
        "<ExecutionResult: 2 modules>"
       ]
      }
     ],
     "prompt_number": 15
    },
    {
     "cell_type": "code",
     "collapsed": false,
     "input": [
      "result.module_output(0)"
     ],
     "language": "python",
     "metadata": {},
     "outputs": [
      {
       "metadata": {},
       "output_type": "pyout",
       "prompt_number": 16,
       "text": [
        "{'self': <vistrails.core.modules.basic_modules.String at 0x5930910>,\n",
        " 'value': 'Hello, world',\n",
        " 'value_as_string': 'Hello, world'}"
       ]
      }
     ],
     "prompt_number": 16
    },
    {
     "cell_type": "code",
     "collapsed": false,
     "input": [
      "result.output_port('msg')"
     ],
     "language": "python",
     "metadata": {},
     "outputs": [
      {
       "metadata": {},
       "output_type": "pyout",
       "prompt_number": 17,
       "text": [
        "'Hello, world'"
       ]
      }
     ],
     "prompt_number": 17
    },
    {
     "cell_type": "markdown",
     "metadata": {},
     "source": [
      "## Sets inputs"
     ]
    },
    {
     "cell_type": "code",
     "collapsed": false,
     "input": [
      "pipeline = vistrail.current_pipeline\n",
      "pipeline"
     ],
     "language": "python",
     "metadata": {},
     "outputs": [
      {
       "metadata": {},
       "output_type": "pyout",
       "prompt_number": 18,
       "text": [
        "<Pipeline: 6 modules, 6 connections; inputs: in_a, in_b; outputs: out_times, out_plus>"
       ]
      }
     ],
     "prompt_number": 18
    },
    {
     "cell_type": "code",
     "collapsed": false,
     "input": [
      "in_a = pipeline.get_input('in_a')\n",
      "assert (in_a == pipeline.get_module('First input')) is True\n",
      "in_a"
     ],
     "language": "python",
     "metadata": {},
     "outputs": [
      {
       "metadata": {},
       "output_type": "pyout",
       "prompt_number": 19,
       "text": [
        "<Module 'InputPort' from org.vistrails.vistrails.basic, id 1, label \"First input\">"
       ]
      }
     ],
     "prompt_number": 19
    },
    {
     "cell_type": "code",
     "collapsed": false,
     "input": [
      "result = pipeline.execute(in_a == 2, in_b=4)"
     ],
     "language": "python",
     "metadata": {},
     "outputs": [
      {
       "output_type": "stream",
       "stream": "stderr",
       "text": [
        "WARNING:vistrails.logger:vistrails\\core\\api.py, line 329\n",
        "UserWarning: execute() does not yet support setting input ports\n",
        "  warnings.warn(\"execute() does not yet support setting \"\n",
        "\n"
       ]
      },
      {
       "ename": "ExecutionErrors",
       "evalue": "Pipeline execution failed: 1 error:\n0: Missing value from port value1",
       "output_type": "pyerr",
       "traceback": [
        "\u001b[1;31m---------------------------------------------------------------------------\u001b[0m\n\u001b[1;31mExecutionErrors\u001b[0m                           Traceback (most recent call last)",
        "\u001b[1;32m<ipython-input-20-4e1482c274f3>\u001b[0m in \u001b[0;36m<module>\u001b[1;34m()\u001b[0m\n\u001b[1;32m----> 1\u001b[1;33m \u001b[0mresult\u001b[0m \u001b[1;33m=\u001b[0m \u001b[0mpipeline\u001b[0m\u001b[1;33m.\u001b[0m\u001b[0mexecute\u001b[0m\u001b[1;33m(\u001b[0m\u001b[0min_a\u001b[0m \u001b[1;33m==\u001b[0m \u001b[1;36m2\u001b[0m\u001b[1;33m,\u001b[0m \u001b[0min_b\u001b[0m\u001b[1;33m=\u001b[0m\u001b[1;36m4\u001b[0m\u001b[1;33m)\u001b[0m\u001b[1;33m\u001b[0m\u001b[0m\n\u001b[0m",
        "\u001b[1;32mC:\\programmation\\vistrails\\dat\\vistrails\\vistrails\\core\\api.py\u001b[0m in \u001b[0;36mexecute\u001b[1;34m(self, *args, **kwargs)\u001b[0m\n\u001b[0;32m    336\u001b[0m \u001b[1;33m\u001b[0m\u001b[0m\n\u001b[0;32m    337\u001b[0m         \u001b[1;32mif\u001b[0m \u001b[0mresult\u001b[0m\u001b[1;33m.\u001b[0m\u001b[0merrors\u001b[0m\u001b[1;33m:\u001b[0m\u001b[1;33m\u001b[0m\u001b[0m\n\u001b[1;32m--> 338\u001b[1;33m             \u001b[1;32mraise\u001b[0m \u001b[0mExecutionErrors\u001b[0m\u001b[1;33m(\u001b[0m\u001b[0mself\u001b[0m\u001b[1;33m,\u001b[0m \u001b[0mresult\u001b[0m\u001b[1;33m)\u001b[0m\u001b[1;33m\u001b[0m\u001b[0m\n\u001b[0m\u001b[0;32m    339\u001b[0m         \u001b[1;32melse\u001b[0m\u001b[1;33m:\u001b[0m\u001b[1;33m\u001b[0m\u001b[0m\n\u001b[0;32m    340\u001b[0m             \u001b[1;32mreturn\u001b[0m \u001b[0mExecutionResults\u001b[0m\u001b[1;33m(\u001b[0m\u001b[0mself\u001b[0m\u001b[1;33m,\u001b[0m \u001b[0mresult\u001b[0m\u001b[1;33m)\u001b[0m\u001b[1;33m\u001b[0m\u001b[0m\n",
        "\u001b[1;31mExecutionErrors\u001b[0m: Pipeline execution failed: 1 error:\n0: Missing value from port value1"
       ]
      }
     ],
     "prompt_number": 20
    },
    {
     "cell_type": "code",
     "collapsed": false,
     "input": [],
     "language": "python",
     "metadata": {},
     "outputs": []
    }
   ],
   "metadata": {}
  }
 ]
}